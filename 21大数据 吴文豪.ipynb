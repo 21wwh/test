{
 "cells": [
  {
   "cell_type": "code",
   "execution_count": 1,
   "id": "d8b7fce2-da0f-4b1d-84a3-8343e8aca9b9",
   "metadata": {
    "execution": {
     "iopub.execute_input": "2024-11-27T11:12:39.308991Z",
     "iopub.status.busy": "2024-11-27T11:12:39.308664Z",
     "iopub.status.idle": "2024-11-27T11:12:41.036875Z",
     "shell.execute_reply": "2024-11-27T11:12:41.036275Z",
     "shell.execute_reply.started": "2024-11-27T11:12:39.308945Z"
    },
    "tags": []
   },
   "outputs": [
    {
     "name": "stdout",
     "output_type": "stream",
     "text": [
      "Looking in indexes: https://mirrors.aliyun.com/pypi/simple/\n",
      "Requirement already satisfied: zhipuai in /usr/local/lib/python3.8/site-packages (2.1.5.20230904)\n",
      "Requirement already satisfied: cachetools>=4.2.2 in /usr/local/lib/python3.8/site-packages (from zhipuai) (4.2.4)\n",
      "Requirement already satisfied: httpx>=0.23.0 in /usr/local/lib/python3.8/site-packages (from zhipuai) (0.27.2)\n",
      "Requirement already satisfied: pydantic<3.0,>=1.9.0 in /usr/local/lib/python3.8/site-packages (from zhipuai) (2.10.2)\n",
      "Requirement already satisfied: pydantic-core>=2.14.6 in /usr/local/lib/python3.8/site-packages (from zhipuai) (2.27.1)\n",
      "Requirement already satisfied: pyjwt<2.9.0,>=2.8.0 in /usr/local/lib/python3.8/site-packages (from zhipuai) (2.8.0)\n",
      "Requirement already satisfied: anyio in /usr/local/lib/python3.8/site-packages (from httpx>=0.23.0->zhipuai) (4.0.0)\n",
      "Requirement already satisfied: certifi in /usr/local/lib/python3.8/site-packages (from httpx>=0.23.0->zhipuai) (2023.7.22)\n",
      "Requirement already satisfied: httpcore==1.* in /usr/local/lib/python3.8/site-packages (from httpx>=0.23.0->zhipuai) (1.0.7)\n",
      "Requirement already satisfied: idna in /usr/local/lib/python3.8/site-packages (from httpx>=0.23.0->zhipuai) (3.4)\n",
      "Requirement already satisfied: sniffio in /usr/local/lib/python3.8/site-packages (from httpx>=0.23.0->zhipuai) (1.3.0)\n",
      "Requirement already satisfied: h11<0.15,>=0.13 in /usr/local/lib/python3.8/site-packages (from httpcore==1.*->httpx>=0.23.0->zhipuai) (0.14.0)\n",
      "Requirement already satisfied: annotated-types>=0.6.0 in /usr/local/lib/python3.8/site-packages (from pydantic<3.0,>=1.9.0->zhipuai) (0.7.0)\n",
      "Requirement already satisfied: typing-extensions>=4.12.2 in /usr/local/lib/python3.8/site-packages (from pydantic<3.0,>=1.9.0->zhipuai) (4.12.2)\n",
      "Requirement already satisfied: exceptiongroup>=1.0.2 in /usr/local/lib/python3.8/site-packages (from anyio->httpx>=0.23.0->zhipuai) (1.2.0)\n",
      "\u001b[33mWARNING: Running pip as the 'root' user can result in broken permissions and conflicting behaviour with the system package manager. It is recommended to use a virtual environment instead: https://pip.pypa.io/warnings/venv\u001b[0m\u001b[33m\n",
      "\u001b[0mNote: you may need to restart the kernel to use updated packages.\n"
     ]
    }
   ],
   "source": [
    "pip install zhipuai -i https://mirrors.aliyun.com/pypi/simple/"
   ]
  },
  {
   "cell_type": "code",
   "execution_count": 2,
   "id": "7f59c4a5-1186-4d44-9041-adf3b15c2177",
   "metadata": {
    "execution": {
     "iopub.execute_input": "2024-11-27T11:13:58.925151Z",
     "iopub.status.busy": "2024-11-27T11:13:58.924785Z",
     "iopub.status.idle": "2024-11-27T11:13:59.206162Z",
     "shell.execute_reply": "2024-11-27T11:13:59.205630Z",
     "shell.execute_reply.started": "2024-11-27T11:13:58.925113Z"
    },
    "tags": []
   },
   "outputs": [],
   "source": [
    "import zhipuai"
   ]
  },
  {
   "cell_type": "code",
   "execution_count": 4,
   "id": "3b6f058a-0c2f-4973-befb-f8be015f5730",
   "metadata": {
    "execution": {
     "iopub.execute_input": "2024-11-27T11:14:57.327787Z",
     "iopub.status.busy": "2024-11-27T11:14:57.327356Z",
     "iopub.status.idle": "2024-11-27T11:14:57.690689Z",
     "shell.execute_reply": "2024-11-27T11:14:57.689594Z",
     "shell.execute_reply.started": "2024-11-27T11:14:57.327756Z"
    },
    "tags": []
   },
   "outputs": [
    {
     "name": "stdout",
     "output_type": "stream",
     "text": [
      "VideoObject(id='72321732691940679-9202953246415771107', model='cogvideox', video_result=None, task_status='PROCESSING', request_id='-9202953246415771108')\n"
     ]
    }
   ],
   "source": [
    "from zhipuai import ZhipuAI\n",
    "client = ZhipuAI(api_key=\"c1deca36898235eb85b41c8b36c1f083.DhMH2ORbuUBoFEMj\")\n",
    "response = client.videos.generations(\n",
    "    model=\"cogvideox\",\n",
    "    prompt=\"猴子摘月亮\"\n",
    ")\n",
    "print(response)"
   ]
  },
  {
   "cell_type": "code",
   "execution_count": 5,
   "id": "d985f051-e118-4d00-bb6b-e2e2e90c346d",
   "metadata": {
    "execution": {
     "iopub.execute_input": "2024-11-27T11:17:09.136071Z",
     "iopub.status.busy": "2024-11-27T11:17:09.135536Z",
     "iopub.status.idle": "2024-11-27T11:17:09.371199Z",
     "shell.execute_reply": "2024-11-27T11:17:09.370125Z",
     "shell.execute_reply.started": "2024-11-27T11:17:09.136012Z"
    },
    "tags": []
   },
   "outputs": [
    {
     "name": "stdout",
     "output_type": "stream",
     "text": [
      "VideoObject(id=None, model='cogvideox', video_result=[VideoResult(url='https://aigc-files.bigmodel.cn/api/cogvideo/d603bf04-acb0-11ef-bd78-9ee7942420ea_0.mp4', cover_image_url='https://aigc-files.bigmodel.cn/api/cogvideo/d603bf04-acb0-11ef-bd78-9ee7942420ea_cover_0.jpeg')], task_status='SUCCESS', request_id='-9202953246415771108')\n"
     ]
    }
   ],
   "source": [
    "response = client.videos.retrieve_videos_result(\n",
    "    id=\"72321732691940679-9202953246415771107\"\n",
    ")\n",
    "print(response)"
   ]
  },
  {
   "cell_type": "code",
   "execution_count": null,
   "id": "417733ea-bd47-46b5-bb2b-b750ff39b9e9",
   "metadata": {},
   "outputs": [],
   "source": [
    "from zhipuai import ZhipuAI\n",
    "client = ZhipuAI(api_key=\"c1deca36898235eb85b41c8b36c1f083.DhMH2ORbuUBoFEMj\")\n",
    "response = client.videos.generations(\n",
    "    model=\"cogvideox\",\n",
    "    prompt=\"猴子摘月亮\"\n",
    ")\n",
    "print(response)\n",
    "response = client.videos.retrieve_videos_result(\n",
    "    id=\"72321732691940679-9202953246415771107\"\n",
    ")\n",
    "print(response)"
   ]
  }
 ],
 "metadata": {
  "kernelspec": {
   "display_name": "Python 3 (ipykernel)",
   "language": "python",
   "name": "python3"
  },
  "language_info": {
   "codemirror_mode": {
    "name": "ipython",
    "version": 3
   },
   "file_extension": ".py",
   "mimetype": "text/x-python",
   "name": "python",
   "nbconvert_exporter": "python",
   "pygments_lexer": "ipython3",
   "version": "3.8.18"
  }
 },
 "nbformat": 4,
 "nbformat_minor": 5
}
