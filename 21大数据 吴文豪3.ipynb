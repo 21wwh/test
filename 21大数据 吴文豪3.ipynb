{
 "cells": [
  {
   "cell_type": "code",
   "execution_count": null,
   "id": "20197b19-0ceb-4392-88e7-eeb0327f05b7",
   "metadata": {},
   "outputs": [],
   "source": []
  },
  {
   "cell_type": "code",
   "execution_count": null,
   "id": "8f47da18-8a20-4558-9f48-6e51db271816",
   "metadata": {},
   "outputs": [],
   "source": []
  },
  {
   "cell_type": "code",
   "execution_count": 5,
   "id": "1997d58b-aaca-4d17-8dae-b1211d566574",
   "metadata": {},
   "outputs": [
    {
     "name": "stdout",
     "output_type": "stream",
     "text": [
      "极大似然估计结果： [0.09990296 0.18001294 0.18001294 0.21009004 0.12991785 0.20006326]\n"
     ]
    }
   ],
   "source": [
    "import numpy as np\n",
    "from scipy.optimize import minimize\n",
    "\n",
    "def log_likelihood(p, x):\n",
    "    p = np.maximum(p, 1e-10)\n",
    "    return - np.sum([np.log(p[i - 1]) for i in x])\n",
    "\n",
    "n_trials = 100\n",
    "x = np.random.randint(1, 7, size=n_trials)\n",
    "\n",
    "p0 = np.ones(6) / 6\n",
    "\n",
    "cons = ({'type': 'eq', 'fun': lambda p: np.sum(p) - 1})\n",
    "\n",
    "result = minimize(lambda p: log_likelihood(p, x), p0, constraints=cons)\n",
    "\n",
    "print(\"极大似然估计结果：\", result.x)"
   ]
  },
  {
   "cell_type": "code",
   "execution_count": 9,
   "id": "c82292f3-559b-4154-9264-52da5cba5a9e",
   "metadata": {},
   "outputs": [
    {
     "name": "stdin",
     "output_type": "stream",
     "text": [
      "请输入投掷次数n:  1000000\n"
     ]
    },
    {
     "name": "stdout",
     "output_type": "stream",
     "text": [
      "极大似然估计结果： [0.16745036 0.16608674 0.16687009 0.1668941  0.16664099 0.16605772]\n"
     ]
    }
   ],
   "source": [
    "import numpy as np\n",
    "from scipy.optimize import minimize\n",
    "\n",
    "def log_likelihood(p, x):\n",
    "    p = np.maximum(p, 1e-10)\n",
    "    return - np.sum([np.log(p[i - 1]) for i in x])\n",
    "\n",
    "n = int(input(\"请输入投掷次数n: \"))\n",
    "\n",
    "x = np.random.randint(1, 7, size=n)\n",
    "\n",
    "p0 = np.ones(6) / 6\n",
    "\n",
    "\n",
    "cons = ({'type': 'eq', 'fun': lambda p: np.sum(p) - 1})\n",
    "\n",
    "result = minimize(lambda p: log_likelihood(p, x), p0, constraints=cons)\n",
    "\n",
    "print(\"极大似然估计结果：\", result.x)"
   ]
  },
  {
   "cell_type": "code",
   "execution_count": null,
   "id": "8a9cefd3-0019-463b-b5be-9f9abb7bce5a",
   "metadata": {},
   "outputs": [],
   "source": []
  }
 ],
 "metadata": {
  "kernelspec": {
   "display_name": "Python 3 (ipykernel)",
   "language": "python",
   "name": "python3"
  },
  "language_info": {
   "codemirror_mode": {
    "name": "ipython",
    "version": 3
   },
   "file_extension": ".py",
   "mimetype": "text/x-python",
   "name": "python",
   "nbconvert_exporter": "python",
   "pygments_lexer": "ipython3",
   "version": "3.9.7"
  }
 },
 "nbformat": 4,
 "nbformat_minor": 5
}
